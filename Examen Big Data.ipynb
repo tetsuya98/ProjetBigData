{
 "cells": [
  {
   "cell_type": "markdown",
   "metadata": {},
   "source": [
    "<h1><center>Examen Big Data</center></h1>"
   ]
  },
  {
   "cell_type": "markdown",
   "metadata": {},
   "source": [
    "<center>Romuald CARETTE, Olivier Gérard</center>\n",
    "\n",
    "<center>12 Février 2021</center>"
   ]
  },
  {
   "cell_type": "markdown",
   "metadata": {},
   "source": [
    "Durée de l'examen : 1h\n",
    "\n",
    "Le rendu prendra la forme de cet énoncé, rempli, puis envoyé par mail à r.carette@evolucare.com ET o.gerard@evolucare.com avant la fin de l'heure d'examen. L'horaire de réception de mail fera foi.\n",
    "\n",
    "La note par défaut vaut 0.\n",
    "La note sur 21 est rapportée sur 20.\n",
    "\n",
    "Toutes les questions valent un point, sauf mention contraire dans l'énoncé de la question."
   ]
  },
  {
   "cell_type": "markdown",
   "metadata": {},
   "source": [
    "### Cours"
   ]
  },
  {
   "cell_type": "markdown",
   "metadata": {},
   "source": [
    "**1 - Donnez une définition rigoureuse du Big Data.**"
   ]
  },
  {
   "cell_type": "markdown",
   "metadata": {},
   "source": [
    " Le BigData désigne les ressources d'informations dont les caractéristiques en termes de volume, de vélocité et de variété imposent l’utilisation de technologies et de méthodes analytiques particulières pour générer de la valeur - Wikipédia\n",
    " \n",
    " On parle généralement des technologies ou des outils permettant de traiter, d'analyser et de visualiser de très grandes quantités de données hétérogènes, venant de sources différentes - Romuald CARETTE"
   ]
  },
  {
   "cell_type": "markdown",
   "metadata": {},
   "source": [
    "**2 - Définissez le Big Data selon vos propres termes. Donnez-en un exemple.**"
   ]
  },
  {
   "cell_type": "markdown",
   "metadata": {},
   "source": [
    " Le BigData est l'aggregation de gros jeux de données hétérogènes pour permettre une analyse grâce à des outils adéquats pour en retirer une plus value. Par exemple : utiliser les données en rapport avec les contaminés du Covid19 pour prédire où le virus va se propager et de quelle manière."
   ]
  },
  {
   "cell_type": "markdown",
   "metadata": {},
   "source": [
    "**3 - Comment est appelé le principe résumant efficacement le Big Data ? Détaillez-le.** (2pts)"
   ]
  },
  {
   "cell_type": "markdown",
   "metadata": {},
   "source": [
    " Les principes des 3 \"V\". Voume, Vélocité, Variété."
   ]
  },
  {
   "cell_type": "markdown",
   "metadata": {},
   "source": [
    "**4 - Ce principe est limitatif et peut être étendu. Comment ?** (2pts)"
   ]
  },
  {
   "cell_type": "markdown",
   "metadata": {},
   "source": [
    " Il peut être étendu à 1 ou 2 autre(s) \"V\". Véracité et Valeur."
   ]
  },
  {
   "cell_type": "markdown",
   "metadata": {},
   "source": [
    "**5 - En quelles unités peut-on justement exprimer les tailles de jeux de données globaux (notamment chez les GAFAM) ? Donnez 2 exemples.**"
   ]
  },
  {
   "cell_type": "markdown",
   "metadata": {},
   "source": [
    " Les unités utilisés par les GAFAM pour exprimer les tailles de jeux de données globaux son en PO (PetaOctets ou 10^15 octets)"
   ]
  },
  {
   "cell_type": "markdown",
   "metadata": {},
   "source": [
    "**6 - Citez 3 domaines d'application du Big Data, avec 2 exemples chacun.** (3pts)"
   ]
  },
  {
   "cell_type": "markdown",
   "metadata": {},
   "source": [
    "Marketing :\n",
    " - Publicité ciblé\n",
    " - Profilage des clients\n",
    " \n",
    "Finance :\n",
    " - Previsions bourcière\n",
    " - Stockage de transactions\n",
    " \n",
    "Metéo :\n",
    " - Compléxité des modèles météorologiques\n",
    " - Masses de données locales"
   ]
  },
  {
   "cell_type": "markdown",
   "metadata": {},
   "source": [
    "**7 - Quels sont les deux archétypes de priorisation dans les SGBD ?**\n",
    "- **HOT et COLD**\n",
    "- **LIGHT et DARK**\n",
    "- **RDBMS et NOSQL**\n",
    "- **ACID et BASE**\n",
    "\n",
    "**Pourquoi ces archétypes sont inconciliables?**"
   ]
  },
  {
   "cell_type": "markdown",
   "metadata": {},
   "source": [
    "- ACID et BASE\n",
    "- ACIDE, les modifications des données sont intégrale ou nulle, les données sont toujours cohérentes entres elles, les transactions d'interfere pas entres elles et les données sont stables et cohérente après une modification.\n",
    "- BASE, les données sont toujours accessible, pas forcement à jour à un instant T, et cohérente dans la mesure du possible.\n",
    "\n",
    "- Là où une base ACID vous permettra l'accès à des données fiables et à jour à un instant T ou vous bloquera l'accès sinon, un base BASE, elle vous permettra l'accès au données dans tous les cas mais pas forcement à jour et donc fiable."
   ]
  },
  {
   "cell_type": "markdown",
   "metadata": {},
   "source": [
    "**8 - Quels sont les 2 langages principalement exploités dans les domaines du Big Data et de la Data Science ?**"
   ]
  },
  {
   "cell_type": "markdown",
   "metadata": {},
   "source": [
    "Python et R"
   ]
  },
  {
   "cell_type": "markdown",
   "metadata": {},
   "source": [
    "**9 - Qu'est-ce que le PEP8 ? Citez-en 3 règles.**"
   ]
  },
  {
   "cell_type": "markdown",
   "metadata": {},
   "source": [
    " PEP8 est une normalisation du code Python :\n",
    "- 80 caractères maximum par ligne.\n",
    "- Idententation de 4 espaces.\n",
    "- Deux lignes vides entre deux classes."
   ]
  },
  {
   "cell_type": "markdown",
   "metadata": {},
   "source": [
    "**10 - Quels sont les éléments limitatifs dans le cadre de l'utilisation des données en Santé ?**\n",
    "- **Le RGPD**\n",
    "- **Le CSA**\n",
    "- **La CNIL**\n",
    "- **Le CSP**\n",
    "\n",
    "**Indiquez la signification des acronymes choisis.**"
   ]
  },
  {
   "cell_type": "markdown",
   "metadata": {},
   "source": [
    "- RGPD (Règlement général sur la protection des données).\n",
    "- CNIL (Commission nationale de l'informatique et des libertés).\n",
    "- CSP (Code la Santé Publique)."
   ]
  },
  {
   "cell_type": "markdown",
   "metadata": {},
   "source": [
    "### Travaux Dirigés "
   ]
  },
  {
   "cell_type": "markdown",
   "metadata": {},
   "source": [
    "*Note : AG = Algorithme Génétique*"
   ]
  },
  {
   "cell_type": "markdown",
   "metadata": {},
   "source": [
    "**11- Pourquoi un AG sans mutation a-t-il peu de chances de trouver la solution optimale d'un problème ?**"
   ]
  },
  {
   "cell_type": "markdown",
   "metadata": {},
   "source": [
    " Car sans mutation le seul crossover ne peut trouver une solution optimale. Le crossover utilisant les données existantes il sera donc limité par celle-ci. La mutation permets de diversifier les données d'origine et donc de maximiser les chances de trouver une solution."
   ]
  },
  {
   "cell_type": "markdown",
   "metadata": {},
   "source": [
    "**12 - En quoi consistent les étapes de croisement et de mutation d'un AG ?**"
   ]
  },
  {
   "cell_type": "markdown",
   "metadata": {},
   "source": [
    " - Le croisement crée une nouvelle génération de données en croisant les données de la génération de données précédente. (Ex: créer un mot à partir de deux mots existant de la génération précédente.\n",
    " - La mutation vas modifier de manière définie ou aléatoire une ou plusieurs données. (Ex: ajouter 10 ou code ASCII d'un lettre aléatoire d'un mot aléatoire des données)"
   ]
  },
  {
   "cell_type": "markdown",
   "metadata": {},
   "source": [
    "**13 - Hormis l'optimisation du code, par quel(s) moyen(s) peut-on influer sur l'efficacité de l'entrainement d'un AG ?**"
   ]
  },
  {
   "cell_type": "markdown",
   "metadata": {},
   "source": [
    " En plus d'otpimiser le code :\n",
    " - On peut affiner les paramètres du code (ex: la taille du jeu de données ou le pourcentage de la population qui sera muté, comment la mutation opère).\n",
    " - Utiliser une machine (ou des serveurs) plus puissant.\n",
    " - En faisant du Data cleaning (tri et correction des aberrations."
   ]
  },
  {
   "cell_type": "markdown",
   "metadata": {},
   "source": [
    "**14 - Citez un mot dont la distance avec \"Genetique\" est de 5.**"
   ]
  },
  {
   "cell_type": "markdown",
   "metadata": {},
   "source": [
    " Genetiquj"
   ]
  },
  {
   "cell_type": "markdown",
   "metadata": {},
   "source": [
    "**15 - Posons *N* un entier, si un système d'équations comprend *N* inconnues, combien d'équations peuvent être suffisantes pour le résoudre ? Quel point important doivent respecter ces équations ?**"
   ]
  },
  {
   "cell_type": "markdown",
   "metadata": {},
   "source": [
    " - Il faut N équations dans le système pour N inconnues\n",
    " - les equations doivents appartenir au même domaine définition"
   ]
  },
  {
   "cell_type": "markdown",
   "metadata": {},
   "source": [
    "### Expression libre"
   ]
  },
  {
   "cell_type": "markdown",
   "metadata": {},
   "source": [
    "**16 - Décrivez, avec vos mots, les intérêts de l'utilisation des méthodes de Big Data. Vous pouvez, notamment, vous reposer sur le sujet d'exposé que vous aviez choisi.** (2pts)"
   ]
  },
  {
   "cell_type": "markdown",
   "metadata": {},
   "source": [
    "- Le BigData permets notamment l'Informatique Décisionnelle (Business Intelligence). En utilisant un jeu de données suffisamment gros on peut sortir des informations permettant une prise de décision. De plus, cela permets la mise en place de modèles prédictifs, par exemple avec la Covid19, on peut prédire la propagation du virus d'un point de vue géographique et/ou socio-économique. Ce qui permets une prise de décision en conséquence. Cela permets aussi du monitoring, en récupérant suffisamment de données, on peut suivre en temps réelle, par exemple, l'état de santé de quelqu'un. Encore une fois grâce au données recueillis on peut prédire les évolutions de l'état de santé de l'individu et prendre des décisions en consequénce et plus de pouvoir réagir rapidemment grâce au monitoring.\n",
    "\n",
    "- De plus, le BigData, en marketing et en commerce, permets de comprendre un marché et de faire evoluer sa communication en fonction. Donc de baser sa communication sur des modes populaires. Enfin, cela permets aussi d'effectuer un communication qui évolue en fonction du publique.\n",
    "\n",
    "- En résumé le BigData permets d'aider la prise de décision grâce à des modèles prédictifs, du monitoring en temps réelle, et une vision globale d'une entité grâce aux données. En plus, de comprendre un domaine en particulié grâce aux données rassemblé à son sujet.\n"
   ]
  },
  {
   "cell_type": "code",
   "execution_count": null,
   "metadata": {},
   "outputs": [],
   "source": []
  },
  {
   "cell_type": "code",
   "execution_count": null,
   "metadata": {},
   "outputs": [],
   "source": []
  },
  {
   "cell_type": "code",
   "execution_count": null,
   "metadata": {},
   "outputs": [],
   "source": []
  }
 ],
 "metadata": {
  "kernelspec": {
   "display_name": "Python 3",
   "language": "python",
   "name": "python3"
  },
  "language_info": {
   "codemirror_mode": {
    "name": "ipython",
    "version": 3
   },
   "file_extension": ".py",
   "mimetype": "text/x-python",
   "name": "python",
   "nbconvert_exporter": "python",
   "pygments_lexer": "ipython3",
   "version": "3.8.5"
  }
 },
 "nbformat": 4,
 "nbformat_minor": 4
}
