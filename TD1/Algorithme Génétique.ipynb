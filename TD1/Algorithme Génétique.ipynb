{
 "cells": [
  {
   "cell_type": "markdown",
   "metadata": {},
   "source": [
    "# Algorithme génétique\n",
    "\n",
    "## Les algorithmes évolutifs\n",
    "\n",
    "### Algorithmes génétiques\n",
    "\n",
    "Le Machine Learning peut apparaître complexe de prime abord, et pour cause certains des algorithmes qui constituent cet ensemble sont très loin d’être accessibles.\n",
    "\n",
    "Ceci étant, il existe un type d’algorithme évolutif plus simple à saisir parmi ceux-ci: les algorithmes génétiques (ou AG).\n",
    "\n",
    "### Principes\n",
    "\n",
    "Comme leur nom l'indique, les AGs ont certains points communs avec la génétique en biologie.\n",
    "\n",
    "Un individu est un ensemble de données concaténées, chacune de ses données représente un gène.\n",
    "\n",
    "L'ensemble des individus représente la population, tandis que chacune des populations (une par étape de l'algorithme est une génération.\n",
    "\n",
    "D'une génération à l'autre, l'individu le plus apte à répondre à la problématique est conservé tandis que les autres sont obtenus via le croisement des individus de la génération précédente. Au terme de ces croisements, des modifications peuvent avoir lieu: les mutations.\n",
    "\n",
    "## Comment faire?\n",
    "\n",
    "Au final, les AGs ne sont pas particulièrement compliqués à implémenter, et ce TD vous permettra de créer un exemple simple.\n",
    "\n",
    "**Attention: Le contenu que vous produirez ici sera réutilisé lors du TD Examen AG, qui sera noté. Veillez à la modularité de votre code.**\n",
    "\n",
    "**Egalement, pensez à commenter votre code et à le rendre lisible (voir la norme PEP8)**\n",
    "\n",
    "### Objectif\n",
    "\n",
    "A la fin de ce TD, votre code sera capable de trouver, de lui-même, une chaîne de caractères définie. Bien sûr, l'utilité est faible, mais il s'agit de pouvoir traiter ensuite toute sorte de données, comme par exemple, utiliser l'AG pour estimer une courbe à partir d'un ensemble de points fournis.\n",
    "\n",
    "Pour ce TD, le code devra retrouver la chaîne de caractères \"Hello World\".\n",
    "\n",
    "### Description\n",
    "\n",
    "Pour fonctionner, l'AG a besoin:\n",
    "- d'une fonction d'évaluation permettant d'indiquer la proximité ou l'erreur entre l'individu et la solution optimale. Dans notre cas, la distance entre chaque caractère sera utilisée, la fonction d'évaluation pour une distance optimale vaudra donc 0.\n",
    "- d'une fonction de croisement qui permet d'obtenir une nouvelle génération à partir d'une génération pré-existante, prenant une partie de deux individus pour en former un nouveau, et ce pour l'ensemble de la population.\n",
    "- de paramètres de mutation, indiquant les chances pour un nouvel individu d'être altéré, et la force de cette altération.\n",
    "\n",
    "### Avant le code"
   ]
  },
  {
   "cell_type": "code",
   "execution_count": 1,
   "metadata": {},
   "outputs": [],
   "source": [
    "# tous les imports de ce TD devront être placés ici\n",
    "import random\n",
    "import time\n",
    "# le mot à trouver\n",
    "test_length = 10\n",
    "target = \"Hello World Hello Wo\""
   ]
  },
  {
   "cell_type": "markdown",
   "metadata": {},
   "source": [
    "### Création des méthodes\n",
    "\n",
    "#### Calcul de distance et localisation du meilleur individu\n",
    "\n",
    "Avant toute chose, il faut réfléchir à la manière de représenter nos données.\n",
    "\n",
    "Nous traiterons des chaînes de caractères. En Python, une chaîne de caractères fonctionne (presque) exactement comme une liste de caractères, et ces caractères peuvent être remplacés par leur code ASCII, qui est numérique.\n",
    "\n",
    "Comme dit précédemment, nous allons définir notre individu cible comme la liste des codes ASCII de \"H\", \"e\", \"l\", \"l\", ... \"d\", qui aura comme distance 0.\n",
    "\n",
    "Puisque nous avons les codes ASCII des caractères à disposition, il est simple de trouver, pour chaque indice de la liste, la distance entre le caractère cible et le caractère courant, qui n'est rien de plus qu'une simple différence. De même, la distance globale de la chaîne est une somme des distances.\n",
    "\n",
    "Une fois les distances d'un ensemble de chaînes obtenues, celles-ci peuvent être ordonnées."
   ]
  },
  {
   "cell_type": "code",
   "execution_count": 2,
   "metadata": {},
   "outputs": [],
   "source": [
    "# la fonction de conversion d'une chaîne de caractères en liste de valeurs ASCII vous est founie\n",
    "def string_to_int_list(string):\n",
    "    return [ord(character) for character in list(string)]"
   ]
  },
  {
   "cell_type": "markdown",
   "metadata": {},
   "source": [
    "##### Exo 1:\n",
    "- **Créez la méthode permettant de calculer la distance entre un mot et un autre**\n",
    "- **Vérifiez que la distance avec \"Hello World\" est correcte pour les mots suivants: \"COjsy OfUkp\" (105) et \"Hemlo Wohld\" (11)**"
   ]
  },
  {
   "cell_type": "code",
   "execution_count": 9,
   "metadata": {},
   "outputs": [
    {
     "name": "stdout",
     "output_type": "stream",
     "text": [
      "5\n"
     ]
    }
   ],
   "source": [
    "# la fonction qui calcul la distance entre deux mots\n",
    "def get_distance(mot, target):\n",
    "    string_ascii = string_to_int_list(mot) #conversion du mot en ascii\n",
    "    target_ascii = string_to_int_list(target)\n",
    "    dist = 0 #distance entre les deux motes\n",
    "    for i in range (0, len(mot)): #boucle pour calculer la distance\n",
    "        dist += abs(string_ascii[i] - target_ascii[i])\n",
    "    return dist #retourne de la distance\n",
    "    \n",
    "    \n",
    "print(get_distance(\"Genetiquj\", 'Genetique'))\n"
   ]
  },
  {
   "cell_type": "markdown",
   "metadata": {},
   "source": [
    "Maintenant qu'il est possible d'attribuer une valeur de distance entre deux mots, nous pouvons ordonner des mots grâce à cette valeur.\n",
    "\n",
    "##### Exo 2:\n",
    "- **Créez la méthode permettant de retrouver le mot le plus proche d'une cible et la valeur de cette distance**\n",
    "- **Testez avec une liste de mots définie par vos soins, et la cible \"Hello World\"**"
   ]
  },
  {
   "cell_type": "code",
   "execution_count": 19,
   "metadata": {},
   "outputs": [
    {
     "data": {
      "text/plain": [
       "'hello world'"
      ]
     },
     "execution_count": 19,
     "metadata": {},
     "output_type": "execute_result"
    }
   ],
   "source": [
    "# la fonction qui determine le mot le plus proche d'un autre dans une liste    \n",
    "def getBest(liste, target):\n",
    "    dist = 0\n",
    "    i = 0\n",
    "    for item in liste:\n",
    "        if i == 0:\n",
    "            i += 1\n",
    "            dist = get_distance(item, target)\n",
    "            mot = item\n",
    "        if get_distance(item, target) < dist:\n",
    "            dist = get_distance(item, target)\n",
    "            mot = item\n",
    "            i += 1\n",
    "    return mot\n",
    "\n",
    "liste = [\"Helsa Worrd\", \"AZERT QWERT\", \"hello world\", \"World Hello\", \"Hella World\"]\n",
    "\n",
    "getBest(liste, target)"
   ]
  },
  {
   "cell_type": "markdown",
   "metadata": {},
   "source": [
    "#### Création d'une première génération\n",
    "\n",
    "Bien que nous connaissions le mot cible, nous partirons d'une population constituée d'un ensemble de mots générés aléatoirement.\n",
    "\n",
    "Gardez à l'esprit que la taille de votre population définira la vitesse d'exécution de votre code. Ainsi, bien qu'un ensemble d'individus important  aura la diversité pour atteindre rapidement (en termes d'itérations) la solution, un ensemble plus restreint passera chacune des itérations rapidement.\n",
    "\n",
    "##### Exo 3:\n",
    "- **Créez la méthode d'initialisation d'une liste de mots aléatoires**\n",
    "- **Utilisez cette méthode pour générer aléatoirement un ensemble de mots, et comparez-les à la cible.**"
   ]
  },
  {
   "cell_type": "code",
   "execution_count": 20,
   "metadata": {},
   "outputs": [],
   "source": [
    "def word_list_init():\n",
    "    listSize = 400 #random.randint(50,500)\n",
    "    listeMots = [\"\"] * listSize\n",
    "    for i in range(0, listSize):\n",
    "        for j in range (test_length):\n",
    "            listeMots[i] = listeMots[i] + chr(random.randint(0, 255))\n",
    "    return listeMots\n",
    "\n",
    "liste = word_list_init()\n",
    "#for mot in liste:\n",
    "    #print(mot, \"-> distance ->\", get_distance(mot, target))\n"
   ]
  },
  {
   "cell_type": "markdown",
   "metadata": {},
   "source": [
    "#### Passage d'une génération à une autre\n",
    "\n",
    "Les opérations de base sont maintenant établies, il est temps de rendre notre système évolutif.\n",
    "\n",
    "D'une génération à l'autre, les individus doivent évoluer. Mais, il n'est pas certain que cette évolution se fasse dans la direction espérée.\n",
    "\n",
    "La théorie de l'évolution dans le domaine biologique indique que l'espèce la plus adaptée à son environnement survivra plus probablement que d'autres. Dans notre cas, nous pouvons discerner l'individu le plus proche de la solution et le conserver (il \"survit\"). Ainsi, le meilleur individu d'une génération ne peut pas être moins adapté que celui d'une génération passée (principe de non-régression).\n",
    "\n",
    "Le reste de la population de la nouvelle génération est produite comme dans le cas de la biologie. Deux parties complémentaires (chromosomes) de deux individus (parents) seront combinées pour obtenir un nouvel individu (enfant).\n",
    "\n",
    "##### Exo 4:\n",
    "- **Créez la méthode de transition entre deux générations. Notez que:**\n",
    " - **Le meilleur individu (ou les x meilleurs individus) devrait être conservé.**\n",
    " - **Les individus restants devraient être un croisement d'individus de la liste des mots précédente (meilleur mot précédent compris).**\n",
    " - **La liste de mots résultante devrait être de même longueur que la précédente.**\n",
    "- **Appliquez la méthode de manière itérative, en indiquant à chaque fois le meilleur élément de la génération et la distance avec la cible.**\n",
    "- **Au bout d'un certain nombre d'itérations, que se passe-t-il?**"
   ]
  },
  {
   "cell_type": "code",
   "execution_count": 23,
   "metadata": {},
   "outputs": [
    {
     "name": "stdout",
     "output_type": "stream",
     "text": [
      "Gen 0\n",
      "Meilleur -> £Â»\\lÊû\u001e",
      "\u0003ú´] ] -> Distance ->  1092\n",
      "Gen 99\n",
      "Meilleur -> ÕPÊwH3Ð\u001e",
      "å\u000f\u0000gÎE<XÈ(& -> Distance ->  64\n"
     ]
    }
   ],
   "source": [
    "def crossover(mot1, mot2):\n",
    "    mot3 = \"\"\n",
    "    for i in range(0, len(mot1)): #Je parcours le mot (Enfant)\n",
    "        unDeux = random.randint(1, 2) #De quel parent j'herite de la char\n",
    "        if unDeux == 1:\n",
    "            mot3 = mot3 + mot1[i] #Parent 1\n",
    "        else:\n",
    "            mot3 = mot3 + mot2[i] #Parent 2\n",
    "    return mot3\n",
    "\n",
    "def new_generation(liste):\n",
    "    old_generation = liste\n",
    "    old_generation.sort(key=lambda x: get_distance(x, target))\n",
    "    newGen = [\"\"] * len(liste) #Je crée la liste de la nouvelle generation\n",
    "    percent = round(len(old_generation)*0.1)\n",
    "    for i in range (0,percent):\n",
    "        newGen[i] = old_generation[i] #Je prend la meilleur mot de la generation precedente  (survivant)\n",
    "    for i in range(percent, len(old_generation)): #Je parcours la nouvelle generation\n",
    "        newGen[i] = crossover(old_generation[random.randint(0, len(liste) - 1)], old_generation[random.randint(0, len(old_generation) - 1)]) #Crossover\n",
    "    return mutation(newGen)\n",
    "\n",
    "def evolution(nbGen):\n",
    "    liste = word_list_init()\n",
    "    print(\"Gen 0\")\n",
    "    print(\"Meilleur ->\", getBest(liste, target), \"-> Distance -> \", get_distance(getBest(liste, target), target))\n",
    "    gen = 0\n",
    "    for i in range(1, nbGen):\n",
    "        liste = new_generation(liste)\n",
    "        gen = i\n",
    "    print(\"Gen\", gen)\n",
    "    print(\"Meilleur ->\", getBest(liste, target), \"-> Distance -> \", get_distance(getBest(liste, target), target))\n",
    "    \n",
    "evolution(100)"
   ]
  },
  {
   "cell_type": "raw",
   "metadata": {},
   "source": [
    "Que se passe-t-il?\n",
    "\n",
    "Le meilleur mot ne change plus !\n",
    "Il n'y a peut plus d'évolution.\n"
   ]
  },
  {
   "cell_type": "markdown",
   "metadata": {},
   "source": [
    "#### Créer la diversité génétique\n",
    "\n",
    "Le principe de mutation permet d'ajouter de la diversité lors de l'évolution de l'AG. En effet, avec une faible population, il est presque certain que le croisement normal d'éléments finisse dans une impasse, on parle de minimum local.\n",
    "\n",
    "Dans notre cas, la notion de minimum local n'a pas véritable lieu d'être. Il nous suffit d'ajouter de nouveaux éléments innovants pour permettre à l'AG de reprendre son évolution.\n",
    "\n",
    "Cette innovation prend la forme d'une altération d'un (ou plusieurs) caractère(s) d'un individu lors de sa création pour une nouvelle génération. Pour s'assurer que l'on ne dégrade pas le meilleur individu, il est conseillé de lui éviter cette étape.\n",
    "\n",
    "La mutation est définie suivant deux paramètres principaux. Tout d'abord, sa probabilité, entre 0 et 1, définit sa fréquence. Aussi, sa force définit l'effet de la mutation, et peut prendre n'importe quelle forme, de +1/-1 à une réaffectation aléatoire. Cette mutation peut s'appliquer lettre par lettre, sur le mot entier, ou sur un ensemble de lettres aléatoires.\n",
    "\n",
    "##### Exo final:\n",
    "- **Créez une méthode permettant de définir le procédé de mutation**\n",
    "- **Utilisez cette méthode pour obtenir la terminaison de votre AG (réduire la distance du meilleur mot à 0)**\n",
    "- **Votre code est complet, faites varier certains de vos paramètres afin de le rendre plus efficace, si vous le souhaitez**\n",
    "- **Rendez votre code adaptatif, capable d'acception diverses longueurs de chaînes de caractères.**"
   ]
  },
  {
   "cell_type": "code",
   "execution_count": 24,
   "metadata": {},
   "outputs": [],
   "source": [
    "def mutation(generation):  \n",
    "    for i in range (0,round(len(generation)*0.3)):\n",
    "        rand_word = random.randint(round(len(generation)*0.1),len(generation)-1)\n",
    "        rand_letter = random.randint(0,len(generation[rand_word])-1)\n",
    "        motList = list(generation[rand_word])\n",
    "        motList[rand_letter] = chr(random.randint(0, 255))\n",
    "        mot = \"\"\n",
    "        for lettre in motList:\n",
    "            mot = mot + lettre\n",
    "        generation[rand_word] = mot\n",
    "    return generation\n",
    "\n",
    "#Optimiser le code en variant la force en fonction de la distance\n",
    "#print(mutation(\"Hella World Hello Wo\"))\n",
    "\n"
   ]
  },
  {
   "cell_type": "markdown",
   "metadata": {},
   "source": [
    "Le bloc suivant vous permet de tester l'exécution de votre code dans les conditions de test finales. Les paramètres des méthodes \"word_list_init\", \"get_distance\" et \"new_generation\" sont à compléter.\n",
    "\n",
    "La valeur de la variable \"test_length\" sera modifiée lors de l'évaluation du code."
   ]
  },
  {
   "cell_type": "code",
   "execution_count": 25,
   "metadata": {},
   "outputs": [
    {
     "name": "stdout",
     "output_type": "stream",
     "text": [
      "Finished  1 times.\n",
      "Finished  2 times.\n",
      "Finished  3 times.\n",
      "Finished  4 times.\n",
      "Finished  5 times.\n",
      "Finished  6 times.\n",
      "Finished  7 times.\n",
      "Finished  8 times.\n",
      "Finished  9 times.\n",
      "Finished  10 times.\n",
      "Finished  11 times.\n",
      "Finished  12 times.\n",
      "Finished  13 times.\n",
      "Finished  14 times.\n",
      "Finished  15 times.\n",
      "Finished  16 times.\n",
      "Finished  17 times.\n",
      "Finished  18 times.\n",
      "After 15 minutes, finished 18 times and stopped with a distance of 9\n"
     ]
    }
   ],
   "source": [
    "# espace de test et d'exécution final\n",
    "test_length = 20\n",
    "target = \"\".join([chr(random.randint(0, 255)) for _ in range(test_length)])\n",
    "start = time.time()\n",
    "ended_amount = 0\n",
    "\n",
    "while time.time() - start < 180:\n",
    "    population = word_list_init()\n",
    "    distance = get_distance(getBest(population, target), target)\n",
    "\n",
    "    while distance > 0:\n",
    "        population = new_generation(population)\n",
    "        distance = get_distance(getBest(population, target), target)\n",
    "        #print(distance)\n",
    "        if time.time() - start > 180:\n",
    "            break\n",
    "    \n",
    "    ended_amount += 1\n",
    "    print(\"Finished \", ended_amount, \"times.\") \n",
    "\n",
    "print(\"After 15 minutes, finished\", ended_amount, \"times and stopped with a distance of\", distance)"
   ]
  },
  {
   "cell_type": "markdown",
   "metadata": {},
   "source": [
    "IMPORTANT:\n",
    "\n",
    "Ce TD est noté (note bonus).\n",
    "L'évaluation sera effectuée par le redémarrage du noyau et l'exécution complète du code. Vérifiez la validité de votre travail avec \"Noyau\" -> \"Redémarrer & tout exécuter\". Tout code ne fonctionnant pas en suivant cette procédure vaudra 0.\n",
    "\n",
    "Le barème est le suivant:\n",
    "- **L'exécution complète attribuera au plus 12 points.** 2 points sont attribués pour chaque méthode correctement implémentée.\n",
    "- **Les codes terminant seront mis en compétition** 0 à 6 points seront attribués en fonction du classement.\n",
    "- **La propreté** (respect du PEP8) **vaudra 2 points.** Un code non propre peut faire perdre jusqu'à 3 points.\n",
    "- Le code doit respecter le côté aléatoire du sujet. Cela inclut la génération initiale, le croisement et la mutation. Toute méthode parmi les trois indiquées ne respectant pas ce point vaudra 0.\n",
    "\n",
    "Attention, tout jour de retard pour le rendu de ce travail entraînera une pénalité de 5 points.\n",
    "\n",
    "Aussi ce code devant être utilisé pour le TD Examen AG, il est conseillé d'y mettre du soin.\n",
    "\n",
    "Le rendu prend la forme de ce notebook, à envoyer par mail."
   ]
  }
 ],
 "metadata": {
  "kernelspec": {
   "display_name": "Python 3",
   "language": "python",
   "name": "python3"
  },
  "language_info": {
   "codemirror_mode": {
    "name": "ipython",
    "version": 3
   },
   "file_extension": ".py",
   "mimetype": "text/x-python",
   "name": "python",
   "nbconvert_exporter": "python",
   "pygments_lexer": "ipython3",
   "version": "3.8.5"
  }
 },
 "nbformat": 4,
 "nbformat_minor": 4
}
